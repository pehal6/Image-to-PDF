{
  "nbformat": 4,
  "nbformat_minor": 0,
  "metadata": {
    "colab": {
      "provenance": []
    },
    "kernelspec": {
      "name": "python3",
      "display_name": "Python 3"
    },
    "language_info": {
      "name": "python"
    }
  },
  "cells": [
    {
      "cell_type": "code",
      "source": [
        "from PIL import Image\n",
        "import os\n",
        "\n",
        "def convert_image_to_pdf(image_path, output_pdf_path):\n",
        "    image = Image.open(image_path)\n",
        "\n",
        "\n",
        "    if image.mode != 'RGB':\n",
        "        image = image.convert('RGB')\n",
        "\n",
        "    image.save(output_pdf_path)\n",
        "    print(f\"✅ PDF saved successfully as: {output_pdf_path}\")\n",
        "\n",
        "convert_image_to_pdf(\"sample_image.jpg\", \"converted_output.pdf\")\n"
      ],
      "metadata": {
        "colab": {
          "base_uri": "https://localhost:8080/"
        },
        "id": "YRGNQtOhorJK",
        "outputId": "3f80d125-bc64-4e05-ef9d-4ca8752ad131"
      },
      "execution_count": 29,
      "outputs": [
        {
          "output_type": "stream",
          "name": "stdout",
          "text": [
            "✅ PDF saved successfully as: converted_output.pdf\n"
          ]
        }
      ]
    }
  ]
}